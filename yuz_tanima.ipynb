{
  "nbformat": 4,
  "nbformat_minor": 0,
  "metadata": {
    "colab": {
      "name": "yuz_tanima2.ipynb",
      "provenance": [],
      "collapsed_sections": [],
      "authorship_tag": "ABX9TyP5ahnOAI5h+4ZBeEMukzjr",
      "include_colab_link": true
    },
    "kernelspec": {
      "name": "python3",
      "display_name": "Python 3"
    },
    "language_info": {
      "name": "python"
    }
  },
  "cells": [
    {
      "cell_type": "markdown",
      "metadata": {
        "id": "view-in-github",
        "colab_type": "text"
      },
      "source": [
        "<a href=\"https://colab.research.google.com/github/onur-sa/RecognitionModel/blob/main/yuz_tanima.ipynb\" target=\"_parent\"><img src=\"https://colab.research.google.com/assets/colab-badge.svg\" alt=\"Open In Colab\"/></a>"
      ]
    },
    {
      "cell_type": "code",
      "metadata": {
        "colab": {
          "base_uri": "https://localhost:8080/"
        },
        "id": "xogkBeWD56QE",
        "outputId": "70d6b06c-7055-4967-915c-518d4e17efcc"
      },
      "source": [
        "from google.colab import drive\n",
        "drive.mount(\"/content/drive/\")"
      ],
      "execution_count": null,
      "outputs": [
        {
          "output_type": "stream",
          "text": [
            "Drive already mounted at /content/drive/; to attempt to forcibly remount, call drive.mount(\"/content/drive/\", force_remount=True).\n"
          ],
          "name": "stdout"
        }
      ]
    },
    {
      "cell_type": "code",
      "metadata": {
        "colab": {
          "base_uri": "https://localhost:8080/"
        },
        "id": "uOGZfFcu6cCT",
        "outputId": "ba929ccd-6bec-4e47-aee7-6b8033f0d600"
      },
      "source": [
        "!mkdir -p drive\n",
        "!google-drive-ocamlfuse drive/\n",
        "!ls"
      ],
      "execution_count": null,
      "outputs": [
        {
          "output_type": "stream",
          "text": [
            "/bin/bash: google-drive-ocamlfuse: command not found\n",
            "drive\t      photo218.jpg  photo335.jpg  photo452.jpg\tphoto56.jpg\n",
            "photo100.jpg  photo219.jpg  photo336.jpg  photo453.jpg\tphoto570.jpg\n",
            "photo101.jpg  photo21.jpg   photo337.jpg  photo454.jpg\tphoto571.jpg\n",
            "photo102.jpg  photo220.jpg  photo338.jpg  photo455.jpg\tphoto572.jpg\n",
            "photo103.jpg  photo221.jpg  photo339.jpg  photo456.jpg\tphoto573.jpg\n",
            "photo104.jpg  photo222.jpg  photo33.jpg   photo457.jpg\tphoto574.jpg\n",
            "photo105.jpg  photo223.jpg  photo340.jpg  photo458.jpg\tphoto575.jpg\n",
            "photo106.jpg  photo224.jpg  photo341.jpg  photo459.jpg\tphoto576.jpg\n",
            "photo107.jpg  photo225.jpg  photo342.jpg  photo45.jpg\tphoto577.jpg\n",
            "photo108.jpg  photo226.jpg  photo343.jpg  photo460.jpg\tphoto578.jpg\n",
            "photo109.jpg  photo227.jpg  photo344.jpg  photo461.jpg\tphoto579.jpg\n",
            "photo10.jpg   photo228.jpg  photo345.jpg  photo462.jpg\tphoto57.jpg\n",
            "photo110.jpg  photo229.jpg  photo346.jpg  photo463.jpg\tphoto580.jpg\n",
            "photo111.jpg  photo22.jpg   photo347.jpg  photo464.jpg\tphoto581.jpg\n",
            "photo112.jpg  photo230.jpg  photo348.jpg  photo465.jpg\tphoto582.jpg\n",
            "photo113.jpg  photo231.jpg  photo349.jpg  photo466.jpg\tphoto583.jpg\n",
            "photo114.jpg  photo232.jpg  photo34.jpg   photo467.jpg\tphoto584.jpg\n",
            "photo115.jpg  photo233.jpg  photo350.jpg  photo468.jpg\tphoto585.jpg\n",
            "photo116.jpg  photo234.jpg  photo351.jpg  photo469.jpg\tphoto586.jpg\n",
            "photo117.jpg  photo235.jpg  photo352.jpg  photo46.jpg\tphoto587.jpg\n",
            "photo118.jpg  photo236.jpg  photo353.jpg  photo470.jpg\tphoto588.jpg\n",
            "photo119.jpg  photo237.jpg  photo354.jpg  photo471.jpg\tphoto589.jpg\n",
            "photo11.jpg   photo238.jpg  photo355.jpg  photo472.jpg\tphoto58.jpg\n",
            "photo120.jpg  photo239.jpg  photo356.jpg  photo473.jpg\tphoto590.jpg\n",
            "photo121.jpg  photo23.jpg   photo357.jpg  photo474.jpg\tphoto591.jpg\n",
            "photo122.jpg  photo240.jpg  photo358.jpg  photo475.jpg\tphoto592.jpg\n",
            "photo123.jpg  photo241.jpg  photo359.jpg  photo476.jpg\tphoto593.jpg\n",
            "photo124.jpg  photo242.jpg  photo35.jpg   photo477.jpg\tphoto594.jpg\n",
            "photo125.jpg  photo243.jpg  photo360.jpg  photo478.jpg\tphoto595.jpg\n",
            "photo126.jpg  photo244.jpg  photo361.jpg  photo479.jpg\tphoto596.jpg\n",
            "photo127.jpg  photo245.jpg  photo362.jpg  photo47.jpg\tphoto597.jpg\n",
            "photo128.jpg  photo246.jpg  photo363.jpg  photo480.jpg\tphoto598.jpg\n",
            "photo129.jpg  photo247.jpg  photo364.jpg  photo481.jpg\tphoto599.jpg\n",
            "photo12.jpg   photo248.jpg  photo365.jpg  photo482.jpg\tphoto59.jpg\n",
            "photo130.jpg  photo249.jpg  photo366.jpg  photo483.jpg\tphoto5.jpg\n",
            "photo131.jpg  photo24.jpg   photo367.jpg  photo484.jpg\tphoto600.jpg\n",
            "photo132.jpg  photo250.jpg  photo368.jpg  photo485.jpg\tphoto601.jpg\n",
            "photo133.jpg  photo251.jpg  photo369.jpg  photo486.jpg\tphoto602.jpg\n",
            "photo134.jpg  photo252.jpg  photo36.jpg   photo487.jpg\tphoto603.jpg\n",
            "photo135.jpg  photo253.jpg  photo370.jpg  photo488.jpg\tphoto604.jpg\n",
            "photo136.jpg  photo254.jpg  photo371.jpg  photo489.jpg\tphoto605.jpg\n",
            "photo137.jpg  photo255.jpg  photo372.jpg  photo48.jpg\tphoto606.jpg\n",
            "photo138.jpg  photo256.jpg  photo373.jpg  photo490.jpg\tphoto607.jpg\n",
            "photo139.jpg  photo257.jpg  photo374.jpg  photo491.jpg\tphoto608.jpg\n",
            "photo13.jpg   photo258.jpg  photo375.jpg  photo492.jpg\tphoto609.jpg\n",
            "photo140.jpg  photo259.jpg  photo376.jpg  photo493.jpg\tphoto60.jpg\n",
            "photo141.jpg  photo25.jpg   photo377.jpg  photo494.jpg\tphoto610.jpg\n",
            "photo142.jpg  photo260.jpg  photo378.jpg  photo495.jpg\tphoto611.jpg\n",
            "photo143.jpg  photo261.jpg  photo379.jpg  photo496.jpg\tphoto612.jpg\n",
            "photo144.jpg  photo262.jpg  photo37.jpg   photo497.jpg\tphoto613.jpg\n",
            "photo145.jpg  photo263.jpg  photo380.jpg  photo498.jpg\tphoto614.jpg\n",
            "photo146.jpg  photo264.jpg  photo381.jpg  photo499.jpg\tphoto615.jpg\n",
            "photo147.jpg  photo265.jpg  photo382.jpg  photo49.jpg\tphoto616.jpg\n",
            "photo148.jpg  photo266.jpg  photo383.jpg  photo4.jpg\tphoto617.jpg\n",
            "photo149.jpg  photo267.jpg  photo384.jpg  photo500.jpg\tphoto618.jpg\n",
            "photo14.jpg   photo268.jpg  photo385.jpg  photo501.jpg\tphoto619.jpg\n",
            "photo150.jpg  photo269.jpg  photo386.jpg  photo502.jpg\tphoto61.jpg\n",
            "photo151.jpg  photo26.jpg   photo387.jpg  photo503.jpg\tphoto620.jpg\n",
            "photo152.jpg  photo270.jpg  photo388.jpg  photo504.jpg\tphoto621.jpg\n",
            "photo153.jpg  photo271.jpg  photo389.jpg  photo505.jpg\tphoto622.jpg\n",
            "photo154.jpg  photo272.jpg  photo38.jpg   photo506.jpg\tphoto623.jpg\n",
            "photo155.jpg  photo273.jpg  photo390.jpg  photo507.jpg\tphoto624.jpg\n",
            "photo156.jpg  photo274.jpg  photo391.jpg  photo508.jpg\tphoto625.jpg\n",
            "photo157.jpg  photo275.jpg  photo392.jpg  photo509.jpg\tphoto626.jpg\n",
            "photo158.jpg  photo276.jpg  photo393.jpg  photo50.jpg\tphoto627.jpg\n",
            "photo159.jpg  photo277.jpg  photo394.jpg  photo510.jpg\tphoto628.jpg\n",
            "photo15.jpg   photo278.jpg  photo395.jpg  photo511.jpg\tphoto629.jpg\n",
            "photo160.jpg  photo279.jpg  photo396.jpg  photo512.jpg\tphoto62.jpg\n",
            "photo161.jpg  photo27.jpg   photo397.jpg  photo513.jpg\tphoto630.jpg\n",
            "photo162.jpg  photo280.jpg  photo398.jpg  photo514.jpg\tphoto631.jpg\n",
            "photo163.jpg  photo281.jpg  photo399.jpg  photo515.jpg\tphoto632.jpg\n",
            "photo164.jpg  photo282.jpg  photo39.jpg   photo516.jpg\tphoto633.jpg\n",
            "photo165.jpg  photo283.jpg  photo3.jpg\t  photo517.jpg\tphoto634.jpg\n",
            "photo166.jpg  photo284.jpg  photo400.jpg  photo518.jpg\tphoto635.jpg\n",
            "photo167.jpg  photo285.jpg  photo401.jpg  photo519.jpg\tphoto636.jpg\n",
            "photo168.jpg  photo286.jpg  photo402.jpg  photo51.jpg\tphoto637.jpg\n",
            "photo169.jpg  photo287.jpg  photo403.jpg  photo520.jpg\tphoto638.jpg\n",
            "photo16.jpg   photo288.jpg  photo404.jpg  photo521.jpg\tphoto639.jpg\n",
            "photo170.jpg  photo289.jpg  photo405.jpg  photo522.jpg\tphoto63.jpg\n",
            "photo171.jpg  photo28.jpg   photo406.jpg  photo523.jpg\tphoto640.jpg\n",
            "photo172.jpg  photo290.jpg  photo407.jpg  photo524.jpg\tphoto641.jpg\n",
            "photo173.jpg  photo291.jpg  photo408.jpg  photo525.jpg\tphoto642.jpg\n",
            "photo174.jpg  photo292.jpg  photo409.jpg  photo526.jpg\tphoto643.jpg\n",
            "photo175.jpg  photo293.jpg  photo40.jpg   photo527.jpg\tphoto644.jpg\n",
            "photo176.jpg  photo294.jpg  photo410.jpg  photo528.jpg\tphoto645.jpg\n",
            "photo177.jpg  photo295.jpg  photo411.jpg  photo529.jpg\tphoto646.jpg\n",
            "photo178.jpg  photo296.jpg  photo412.jpg  photo52.jpg\tphoto647.jpg\n",
            "photo179.jpg  photo297.jpg  photo413.jpg  photo530.jpg\tphoto648.jpg\n",
            "photo17.jpg   photo298.jpg  photo414.jpg  photo531.jpg\tphoto649.jpg\n",
            "photo180.jpg  photo299.jpg  photo415.jpg  photo532.jpg\tphoto64.jpg\n",
            "photo181.jpg  photo29.jpg   photo416.jpg  photo533.jpg\tphoto650.jpg\n",
            "photo182.jpg  photo2.jpg    photo417.jpg  photo534.jpg\tphoto65.jpg\n",
            "photo183.jpg  photo300.jpg  photo418.jpg  photo535.jpg\tphoto66.jpg\n",
            "photo184.jpg  photo301.jpg  photo419.jpg  photo536.jpg\tphoto67.jpg\n",
            "photo185.jpg  photo302.jpg  photo41.jpg   photo537.jpg\tphoto68.jpg\n",
            "photo186.jpg  photo303.jpg  photo420.jpg  photo538.jpg\tphoto69.jpg\n",
            "photo187.jpg  photo304.jpg  photo421.jpg  photo539.jpg\tphoto6.jpg\n",
            "photo188.jpg  photo305.jpg  photo422.jpg  photo53.jpg\tphoto70.jpg\n",
            "photo189.jpg  photo306.jpg  photo423.jpg  photo540.jpg\tphoto71.jpg\n",
            "photo18.jpg   photo307.jpg  photo424.jpg  photo541.jpg\tphoto72.jpg\n",
            "photo190.jpg  photo308.jpg  photo425.jpg  photo542.jpg\tphoto73.jpg\n",
            "photo191.jpg  photo309.jpg  photo426.jpg  photo543.jpg\tphoto74.jpg\n",
            "photo192.jpg  photo30.jpg   photo427.jpg  photo544.jpg\tphoto75.jpg\n",
            "photo193.jpg  photo310.jpg  photo428.jpg  photo545.jpg\tphoto76.jpg\n",
            "photo194.jpg  photo311.jpg  photo429.jpg  photo546.jpg\tphoto77.jpg\n",
            "photo195.jpg  photo312.jpg  photo42.jpg   photo547.jpg\tphoto78.jpg\n",
            "photo196.jpg  photo313.jpg  photo430.jpg  photo548.jpg\tphoto79.jpg\n",
            "photo197.jpg  photo314.jpg  photo431.jpg  photo549.jpg\tphoto7.jpg\n",
            "photo198.jpg  photo315.jpg  photo432.jpg  photo54.jpg\tphoto80.jpg\n",
            "photo199.jpg  photo316.jpg  photo433.jpg  photo550.jpg\tphoto81.jpg\n",
            "photo19.jpg   photo317.jpg  photo434.jpg  photo551.jpg\tphoto82.jpg\n",
            "photo200.jpg  photo318.jpg  photo435.jpg  photo552.jpg\tphoto83.jpg\n",
            "photo201.jpg  photo319.jpg  photo436.jpg  photo553.jpg\tphoto84.jpg\n",
            "photo202.jpg  photo31.jpg   photo437.jpg  photo554.jpg\tphoto85.jpg\n",
            "photo203.jpg  photo320.jpg  photo438.jpg  photo555.jpg\tphoto86.jpg\n",
            "photo204.jpg  photo321.jpg  photo439.jpg  photo556.jpg\tphoto87.jpg\n",
            "photo205.jpg  photo322.jpg  photo43.jpg   photo557.jpg\tphoto88.jpg\n",
            "photo206.jpg  photo323.jpg  photo440.jpg  photo558.jpg\tphoto89.jpg\n",
            "photo207.jpg  photo324.jpg  photo441.jpg  photo559.jpg\tphoto8.jpg\n",
            "photo208.jpg  photo325.jpg  photo442.jpg  photo55.jpg\tphoto90.jpg\n",
            "photo209.jpg  photo326.jpg  photo443.jpg  photo560.jpg\tphoto91.jpg\n",
            "photo20.jpg   photo327.jpg  photo444.jpg  photo561.jpg\tphoto92.jpg\n",
            "photo210.jpg  photo328.jpg  photo445.jpg  photo562.jpg\tphoto93.jpg\n",
            "photo211.jpg  photo329.jpg  photo446.jpg  photo563.jpg\tphoto94.jpg\n",
            "photo212.jpg  photo32.jpg   photo447.jpg  photo564.jpg\tphoto95.jpg\n",
            "photo213.jpg  photo330.jpg  photo448.jpg  photo565.jpg\tphoto96.jpg\n",
            "photo214.jpg  photo331.jpg  photo449.jpg  photo566.jpg\tphoto97.jpg\n",
            "photo215.jpg  photo332.jpg  photo44.jpg   photo567.jpg\tphoto98.jpg\n",
            "photo216.jpg  photo333.jpg  photo450.jpg  photo568.jpg\tphoto99.jpg\n",
            "photo217.jpg  photo334.jpg  photo451.jpg  photo569.jpg\tphoto9.jpg\n"
          ],
          "name": "stdout"
        }
      ]
    },
    {
      "cell_type": "code",
      "metadata": {
        "colab": {
          "base_uri": "https://localhost:8080/"
        },
        "id": "8NphmOOx7Eq7",
        "outputId": "a2f1fd57-a841-4f31-efdb-bd6829ffda66"
      },
      "source": [
        "import os \n",
        "os.chdir(\"/content/drive/MyDrive/Yuz_Tanima/data/train/onur\")\n",
        "!ls"
      ],
      "execution_count": null,
      "outputs": [
        {
          "output_type": "stream",
          "text": [
            "drive\t      photo218.jpg  photo335.jpg  photo452.jpg\tphoto56.jpg\n",
            "photo100.jpg  photo219.jpg  photo336.jpg  photo453.jpg\tphoto570.jpg\n",
            "photo101.jpg  photo21.jpg   photo337.jpg  photo454.jpg\tphoto571.jpg\n",
            "photo102.jpg  photo220.jpg  photo338.jpg  photo455.jpg\tphoto572.jpg\n",
            "photo103.jpg  photo221.jpg  photo339.jpg  photo456.jpg\tphoto573.jpg\n",
            "photo104.jpg  photo222.jpg  photo33.jpg   photo457.jpg\tphoto574.jpg\n",
            "photo105.jpg  photo223.jpg  photo340.jpg  photo458.jpg\tphoto575.jpg\n",
            "photo106.jpg  photo224.jpg  photo341.jpg  photo459.jpg\tphoto576.jpg\n",
            "photo107.jpg  photo225.jpg  photo342.jpg  photo45.jpg\tphoto577.jpg\n",
            "photo108.jpg  photo226.jpg  photo343.jpg  photo460.jpg\tphoto578.jpg\n",
            "photo109.jpg  photo227.jpg  photo344.jpg  photo461.jpg\tphoto579.jpg\n",
            "photo10.jpg   photo228.jpg  photo345.jpg  photo462.jpg\tphoto57.jpg\n",
            "photo110.jpg  photo229.jpg  photo346.jpg  photo463.jpg\tphoto580.jpg\n",
            "photo111.jpg  photo22.jpg   photo347.jpg  photo464.jpg\tphoto581.jpg\n",
            "photo112.jpg  photo230.jpg  photo348.jpg  photo465.jpg\tphoto582.jpg\n",
            "photo113.jpg  photo231.jpg  photo349.jpg  photo466.jpg\tphoto583.jpg\n",
            "photo114.jpg  photo232.jpg  photo34.jpg   photo467.jpg\tphoto584.jpg\n",
            "photo115.jpg  photo233.jpg  photo350.jpg  photo468.jpg\tphoto585.jpg\n",
            "photo116.jpg  photo234.jpg  photo351.jpg  photo469.jpg\tphoto586.jpg\n",
            "photo117.jpg  photo235.jpg  photo352.jpg  photo46.jpg\tphoto587.jpg\n",
            "photo118.jpg  photo236.jpg  photo353.jpg  photo470.jpg\tphoto588.jpg\n",
            "photo119.jpg  photo237.jpg  photo354.jpg  photo471.jpg\tphoto589.jpg\n",
            "photo11.jpg   photo238.jpg  photo355.jpg  photo472.jpg\tphoto58.jpg\n",
            "photo120.jpg  photo239.jpg  photo356.jpg  photo473.jpg\tphoto590.jpg\n",
            "photo121.jpg  photo23.jpg   photo357.jpg  photo474.jpg\tphoto591.jpg\n",
            "photo122.jpg  photo240.jpg  photo358.jpg  photo475.jpg\tphoto592.jpg\n",
            "photo123.jpg  photo241.jpg  photo359.jpg  photo476.jpg\tphoto593.jpg\n",
            "photo124.jpg  photo242.jpg  photo35.jpg   photo477.jpg\tphoto594.jpg\n",
            "photo125.jpg  photo243.jpg  photo360.jpg  photo478.jpg\tphoto595.jpg\n",
            "photo126.jpg  photo244.jpg  photo361.jpg  photo479.jpg\tphoto596.jpg\n",
            "photo127.jpg  photo245.jpg  photo362.jpg  photo47.jpg\tphoto597.jpg\n",
            "photo128.jpg  photo246.jpg  photo363.jpg  photo480.jpg\tphoto598.jpg\n",
            "photo129.jpg  photo247.jpg  photo364.jpg  photo481.jpg\tphoto599.jpg\n",
            "photo12.jpg   photo248.jpg  photo365.jpg  photo482.jpg\tphoto59.jpg\n",
            "photo130.jpg  photo249.jpg  photo366.jpg  photo483.jpg\tphoto5.jpg\n",
            "photo131.jpg  photo24.jpg   photo367.jpg  photo484.jpg\tphoto600.jpg\n",
            "photo132.jpg  photo250.jpg  photo368.jpg  photo485.jpg\tphoto601.jpg\n",
            "photo133.jpg  photo251.jpg  photo369.jpg  photo486.jpg\tphoto602.jpg\n",
            "photo134.jpg  photo252.jpg  photo36.jpg   photo487.jpg\tphoto603.jpg\n",
            "photo135.jpg  photo253.jpg  photo370.jpg  photo488.jpg\tphoto604.jpg\n",
            "photo136.jpg  photo254.jpg  photo371.jpg  photo489.jpg\tphoto605.jpg\n",
            "photo137.jpg  photo255.jpg  photo372.jpg  photo48.jpg\tphoto606.jpg\n",
            "photo138.jpg  photo256.jpg  photo373.jpg  photo490.jpg\tphoto607.jpg\n",
            "photo139.jpg  photo257.jpg  photo374.jpg  photo491.jpg\tphoto608.jpg\n",
            "photo13.jpg   photo258.jpg  photo375.jpg  photo492.jpg\tphoto609.jpg\n",
            "photo140.jpg  photo259.jpg  photo376.jpg  photo493.jpg\tphoto60.jpg\n",
            "photo141.jpg  photo25.jpg   photo377.jpg  photo494.jpg\tphoto610.jpg\n",
            "photo142.jpg  photo260.jpg  photo378.jpg  photo495.jpg\tphoto611.jpg\n",
            "photo143.jpg  photo261.jpg  photo379.jpg  photo496.jpg\tphoto612.jpg\n",
            "photo144.jpg  photo262.jpg  photo37.jpg   photo497.jpg\tphoto613.jpg\n",
            "photo145.jpg  photo263.jpg  photo380.jpg  photo498.jpg\tphoto614.jpg\n",
            "photo146.jpg  photo264.jpg  photo381.jpg  photo499.jpg\tphoto615.jpg\n",
            "photo147.jpg  photo265.jpg  photo382.jpg  photo49.jpg\tphoto616.jpg\n",
            "photo148.jpg  photo266.jpg  photo383.jpg  photo4.jpg\tphoto617.jpg\n",
            "photo149.jpg  photo267.jpg  photo384.jpg  photo500.jpg\tphoto618.jpg\n",
            "photo14.jpg   photo268.jpg  photo385.jpg  photo501.jpg\tphoto619.jpg\n",
            "photo150.jpg  photo269.jpg  photo386.jpg  photo502.jpg\tphoto61.jpg\n",
            "photo151.jpg  photo26.jpg   photo387.jpg  photo503.jpg\tphoto620.jpg\n",
            "photo152.jpg  photo270.jpg  photo388.jpg  photo504.jpg\tphoto621.jpg\n",
            "photo153.jpg  photo271.jpg  photo389.jpg  photo505.jpg\tphoto622.jpg\n",
            "photo154.jpg  photo272.jpg  photo38.jpg   photo506.jpg\tphoto623.jpg\n",
            "photo155.jpg  photo273.jpg  photo390.jpg  photo507.jpg\tphoto624.jpg\n",
            "photo156.jpg  photo274.jpg  photo391.jpg  photo508.jpg\tphoto625.jpg\n",
            "photo157.jpg  photo275.jpg  photo392.jpg  photo509.jpg\tphoto626.jpg\n",
            "photo158.jpg  photo276.jpg  photo393.jpg  photo50.jpg\tphoto627.jpg\n",
            "photo159.jpg  photo277.jpg  photo394.jpg  photo510.jpg\tphoto628.jpg\n",
            "photo15.jpg   photo278.jpg  photo395.jpg  photo511.jpg\tphoto629.jpg\n",
            "photo160.jpg  photo279.jpg  photo396.jpg  photo512.jpg\tphoto62.jpg\n",
            "photo161.jpg  photo27.jpg   photo397.jpg  photo513.jpg\tphoto630.jpg\n",
            "photo162.jpg  photo280.jpg  photo398.jpg  photo514.jpg\tphoto631.jpg\n",
            "photo163.jpg  photo281.jpg  photo399.jpg  photo515.jpg\tphoto632.jpg\n",
            "photo164.jpg  photo282.jpg  photo39.jpg   photo516.jpg\tphoto633.jpg\n",
            "photo165.jpg  photo283.jpg  photo3.jpg\t  photo517.jpg\tphoto634.jpg\n",
            "photo166.jpg  photo284.jpg  photo400.jpg  photo518.jpg\tphoto635.jpg\n",
            "photo167.jpg  photo285.jpg  photo401.jpg  photo519.jpg\tphoto636.jpg\n",
            "photo168.jpg  photo286.jpg  photo402.jpg  photo51.jpg\tphoto637.jpg\n",
            "photo169.jpg  photo287.jpg  photo403.jpg  photo520.jpg\tphoto638.jpg\n",
            "photo16.jpg   photo288.jpg  photo404.jpg  photo521.jpg\tphoto639.jpg\n",
            "photo170.jpg  photo289.jpg  photo405.jpg  photo522.jpg\tphoto63.jpg\n",
            "photo171.jpg  photo28.jpg   photo406.jpg  photo523.jpg\tphoto640.jpg\n",
            "photo172.jpg  photo290.jpg  photo407.jpg  photo524.jpg\tphoto641.jpg\n",
            "photo173.jpg  photo291.jpg  photo408.jpg  photo525.jpg\tphoto642.jpg\n",
            "photo174.jpg  photo292.jpg  photo409.jpg  photo526.jpg\tphoto643.jpg\n",
            "photo175.jpg  photo293.jpg  photo40.jpg   photo527.jpg\tphoto644.jpg\n",
            "photo176.jpg  photo294.jpg  photo410.jpg  photo528.jpg\tphoto645.jpg\n",
            "photo177.jpg  photo295.jpg  photo411.jpg  photo529.jpg\tphoto646.jpg\n",
            "photo178.jpg  photo296.jpg  photo412.jpg  photo52.jpg\tphoto647.jpg\n",
            "photo179.jpg  photo297.jpg  photo413.jpg  photo530.jpg\tphoto648.jpg\n",
            "photo17.jpg   photo298.jpg  photo414.jpg  photo531.jpg\tphoto649.jpg\n",
            "photo180.jpg  photo299.jpg  photo415.jpg  photo532.jpg\tphoto64.jpg\n",
            "photo181.jpg  photo29.jpg   photo416.jpg  photo533.jpg\tphoto650.jpg\n",
            "photo182.jpg  photo2.jpg    photo417.jpg  photo534.jpg\tphoto65.jpg\n",
            "photo183.jpg  photo300.jpg  photo418.jpg  photo535.jpg\tphoto66.jpg\n",
            "photo184.jpg  photo301.jpg  photo419.jpg  photo536.jpg\tphoto67.jpg\n",
            "photo185.jpg  photo302.jpg  photo41.jpg   photo537.jpg\tphoto68.jpg\n",
            "photo186.jpg  photo303.jpg  photo420.jpg  photo538.jpg\tphoto69.jpg\n",
            "photo187.jpg  photo304.jpg  photo421.jpg  photo539.jpg\tphoto6.jpg\n",
            "photo188.jpg  photo305.jpg  photo422.jpg  photo53.jpg\tphoto70.jpg\n",
            "photo189.jpg  photo306.jpg  photo423.jpg  photo540.jpg\tphoto71.jpg\n",
            "photo18.jpg   photo307.jpg  photo424.jpg  photo541.jpg\tphoto72.jpg\n",
            "photo190.jpg  photo308.jpg  photo425.jpg  photo542.jpg\tphoto73.jpg\n",
            "photo191.jpg  photo309.jpg  photo426.jpg  photo543.jpg\tphoto74.jpg\n",
            "photo192.jpg  photo30.jpg   photo427.jpg  photo544.jpg\tphoto75.jpg\n",
            "photo193.jpg  photo310.jpg  photo428.jpg  photo545.jpg\tphoto76.jpg\n",
            "photo194.jpg  photo311.jpg  photo429.jpg  photo546.jpg\tphoto77.jpg\n",
            "photo195.jpg  photo312.jpg  photo42.jpg   photo547.jpg\tphoto78.jpg\n",
            "photo196.jpg  photo313.jpg  photo430.jpg  photo548.jpg\tphoto79.jpg\n",
            "photo197.jpg  photo314.jpg  photo431.jpg  photo549.jpg\tphoto7.jpg\n",
            "photo198.jpg  photo315.jpg  photo432.jpg  photo54.jpg\tphoto80.jpg\n",
            "photo199.jpg  photo316.jpg  photo433.jpg  photo550.jpg\tphoto81.jpg\n",
            "photo19.jpg   photo317.jpg  photo434.jpg  photo551.jpg\tphoto82.jpg\n",
            "photo200.jpg  photo318.jpg  photo435.jpg  photo552.jpg\tphoto83.jpg\n",
            "photo201.jpg  photo319.jpg  photo436.jpg  photo553.jpg\tphoto84.jpg\n",
            "photo202.jpg  photo31.jpg   photo437.jpg  photo554.jpg\tphoto85.jpg\n",
            "photo203.jpg  photo320.jpg  photo438.jpg  photo555.jpg\tphoto86.jpg\n",
            "photo204.jpg  photo321.jpg  photo439.jpg  photo556.jpg\tphoto87.jpg\n",
            "photo205.jpg  photo322.jpg  photo43.jpg   photo557.jpg\tphoto88.jpg\n",
            "photo206.jpg  photo323.jpg  photo440.jpg  photo558.jpg\tphoto89.jpg\n",
            "photo207.jpg  photo324.jpg  photo441.jpg  photo559.jpg\tphoto8.jpg\n",
            "photo208.jpg  photo325.jpg  photo442.jpg  photo55.jpg\tphoto90.jpg\n",
            "photo209.jpg  photo326.jpg  photo443.jpg  photo560.jpg\tphoto91.jpg\n",
            "photo20.jpg   photo327.jpg  photo444.jpg  photo561.jpg\tphoto92.jpg\n",
            "photo210.jpg  photo328.jpg  photo445.jpg  photo562.jpg\tphoto93.jpg\n",
            "photo211.jpg  photo329.jpg  photo446.jpg  photo563.jpg\tphoto94.jpg\n",
            "photo212.jpg  photo32.jpg   photo447.jpg  photo564.jpg\tphoto95.jpg\n",
            "photo213.jpg  photo330.jpg  photo448.jpg  photo565.jpg\tphoto96.jpg\n",
            "photo214.jpg  photo331.jpg  photo449.jpg  photo566.jpg\tphoto97.jpg\n",
            "photo215.jpg  photo332.jpg  photo44.jpg   photo567.jpg\tphoto98.jpg\n",
            "photo216.jpg  photo333.jpg  photo450.jpg  photo568.jpg\tphoto99.jpg\n",
            "photo217.jpg  photo334.jpg  photo451.jpg  photo569.jpg\tphoto9.jpg\n"
          ],
          "name": "stdout"
        }
      ]
    },
    {
      "cell_type": "code",
      "metadata": {
        "id": "J5RV7zuZ711v"
      },
      "source": [
        "!pip install -q keras\n"
      ],
      "execution_count": null,
      "outputs": []
    },
    {
      "cell_type": "code",
      "metadata": {
        "colab": {
          "base_uri": "https://localhost:8080/"
        },
        "id": "O80vXxyk839Q",
        "outputId": "e10c888e-b02d-4fab-c915-0d2f6dabfc17"
      },
      "source": [
        "import tensorflow as tf\n",
        "import keras\n",
        "\n",
        "print(tf.__version__)\n",
        "print(keras.__version__)"
      ],
      "execution_count": null,
      "outputs": [
        {
          "output_type": "stream",
          "text": [
            "2.4.1\n",
            "2.4.3\n"
          ],
          "name": "stdout"
        }
      ]
    },
    {
      "cell_type": "code",
      "metadata": {
        "id": "jz4Vx3oU9N-S"
      },
      "source": [
        "from keras.preprocessing.image import ImageDataGenerator\n",
        "from keras.models import Sequential, save_model\n",
        "from keras.layers import Conv2D, MaxPooling2D, Dropout, Flatten, Dense\n",
        "import numpy as np\n"
      ],
      "execution_count": null,
      "outputs": []
    },
    {
      "cell_type": "markdown",
      "metadata": {
        "id": "WKPV0lwK-4D0"
      },
      "source": [
        ""
      ]
    },
    {
      "cell_type": "code",
      "metadata": {
        "colab": {
          "base_uri": "https://localhost:8080/"
        },
        "id": "AEUdrb9TR3y1",
        "outputId": "d3e75937-90e1-4627-e619-fad8a23afc66"
      },
      "source": [
        "train_data_gen = ImageDataGenerator(rescale=1/255.,\n",
        "                                    rotation_range=40,\n",
        "                                    shear_range=0.2,\n",
        "                                    zoom_range=0.2,\n",
        "                                    horizontal_flip= True,\n",
        "                                    fill_mode=\"nearest\")\n",
        "val_data_gen = ImageDataGenerator(rescale=1/255.)\n",
        "\n",
        "train_data = train_data_gen.flow_from_directory(directory=\"/content/drive/MyDrive/Yuz_Tanima/data/train\", target_size = (224,224),color_mode=\"grayscale\",class_mode=\"categorical\",batch_size=32)\n",
        "\n",
        "val_data = val_data_gen.flow_from_directory(directory=\"/content/drive/MyDrive/Yuz_Tanima/data/validation\", target_size =(224,224),color_mode=\"grayscale\", class_mode=\"categorical\",batch_size=32)\n",
        "print(type(train_data))"
      ],
      "execution_count": null,
      "outputs": [
        {
          "output_type": "stream",
          "text": [
            "Found 1949 images belonging to 3 classes.\n",
            "Found 400 images belonging to 3 classes.\n",
            "<class 'tensorflow.python.keras.preprocessing.image.DirectoryIterator'>\n"
          ],
          "name": "stdout"
        }
      ]
    },
    {
      "cell_type": "markdown",
      "metadata": {
        "id": "7BAHXA9oUVqU"
      },
      "source": [
        ""
      ]
    },
    {
      "cell_type": "code",
      "metadata": {
        "id": "h7xvWYhAWopZ"
      },
      "source": [
        "model = Sequential()"
      ],
      "execution_count": null,
      "outputs": []
    },
    {
      "cell_type": "code",
      "metadata": {
        "colab": {
          "base_uri": "https://localhost:8080/"
        },
        "id": "oNNEQSsmWorl",
        "outputId": "ce010384-14f4-48f9-a555-ec27f9ca139e"
      },
      "source": [
        "model.add(Conv2D(32, (3,3), input_shape=(224,224,1), activation=\"relu\"))\n",
        "\n",
        "model.add(Conv2D(64, (3,3), activation=\"relu\"))\n",
        "model.add(MaxPooling2D(pool_size=(2,2)))\n",
        "model.add(Dropout(0.2))\n",
        "\n",
        "model.add(Conv2D(128, (3,3), activation=\"relu\"))\n",
        "model.add(MaxPooling2D(pool_size=(2,2)))\n",
        "model.add(Dropout(0.2))\n",
        "\n",
        "model.add(Conv2D(128, (3,3), activation=\"relu\"))\n",
        "model.add(MaxPooling2D(pool_size=(2,2)))\n",
        "model.add(Dropout(0.2))\n",
        "\n",
        "model.add(Flatten())\n",
        "\n",
        "model.add(Dense(256, activation=\"relu\"))\n",
        "model.add(Dropout(0.5))\n",
        "model.add(Dense(3, activation=\"softmax\"))\n",
        "\n",
        "model.summary()"
      ],
      "execution_count": null,
      "outputs": [
        {
          "output_type": "stream",
          "text": [
            "Model: \"sequential_8\"\n",
            "_________________________________________________________________\n",
            "Layer (type)                 Output Shape              Param #   \n",
            "=================================================================\n",
            "conv2d_33 (Conv2D)           (None, 222, 222, 32)      320       \n",
            "_________________________________________________________________\n",
            "conv2d_34 (Conv2D)           (None, 220, 220, 64)      18496     \n",
            "_________________________________________________________________\n",
            "max_pooling2d_21 (MaxPooling (None, 110, 110, 64)      0         \n",
            "_________________________________________________________________\n",
            "dropout_28 (Dropout)         (None, 110, 110, 64)      0         \n",
            "_________________________________________________________________\n",
            "conv2d_35 (Conv2D)           (None, 108, 108, 128)     73856     \n",
            "_________________________________________________________________\n",
            "max_pooling2d_22 (MaxPooling (None, 54, 54, 128)       0         \n",
            "_________________________________________________________________\n",
            "dropout_29 (Dropout)         (None, 54, 54, 128)       0         \n",
            "_________________________________________________________________\n",
            "conv2d_36 (Conv2D)           (None, 52, 52, 128)       147584    \n",
            "_________________________________________________________________\n",
            "max_pooling2d_23 (MaxPooling (None, 26, 26, 128)       0         \n",
            "_________________________________________________________________\n",
            "dropout_30 (Dropout)         (None, 26, 26, 128)       0         \n",
            "_________________________________________________________________\n",
            "flatten_7 (Flatten)          (None, 86528)             0         \n",
            "_________________________________________________________________\n",
            "dense_14 (Dense)             (None, 256)               22151424  \n",
            "_________________________________________________________________\n",
            "dropout_31 (Dropout)         (None, 256)               0         \n",
            "_________________________________________________________________\n",
            "dense_15 (Dense)             (None, 3)                 771       \n",
            "=================================================================\n",
            "Total params: 22,392,451\n",
            "Trainable params: 22,392,451\n",
            "Non-trainable params: 0\n",
            "_________________________________________________________________\n"
          ],
          "name": "stdout"
        }
      ]
    },
    {
      "cell_type": "code",
      "metadata": {
        "id": "lmhgd8UXWot4"
      },
      "source": [
        "model.compile(optimizer=\"rmsprop\",\n",
        "              loss=\"categorical_crossentropy\",\n",
        "              metrics=[\"accuracy\"])"
      ],
      "execution_count": null,
      "outputs": []
    },
    {
      "cell_type": "markdown",
      "metadata": {
        "id": "CM8Vn4vVBZjK"
      },
      "source": [
        ""
      ]
    },
    {
      "cell_type": "code",
      "metadata": {
        "colab": {
          "base_uri": "https://localhost:8080/"
        },
        "id": "wKY4w5ytZY6K",
        "outputId": "86274f45-09c1-470f-f99b-bd4dfe0a8f0a"
      },
      "source": [
        "model.fit(train_data, batch_size=32, epochs=6, validation_data=val_data, steps_per_epoch=1299/32, validation_steps=200/32)"
      ],
      "execution_count": null,
      "outputs": [
        {
          "output_type": "stream",
          "text": [
            "Epoch 1/6\n",
            "40/40 [==============================] - 477s 12s/step - loss: 1.4914 - accuracy: 0.5003 - val_loss: 2.1306 - val_accuracy: 0.5580\n",
            "Epoch 2/6\n",
            "40/40 [==============================] - 359s 9s/step - loss: 0.7592 - accuracy: 0.8754 - val_loss: 0.1181 - val_accuracy: 1.0000\n",
            "Epoch 3/6\n",
            "40/40 [==============================] - 339s 8s/step - loss: 0.0542 - accuracy: 0.9894 - val_loss: 0.0015 - val_accuracy: 1.0000\n",
            "Epoch 4/6\n",
            "40/40 [==============================] - 334s 8s/step - loss: 0.1824 - accuracy: 0.9621 - val_loss: 1.2171e-04 - val_accuracy: 1.0000\n",
            "Epoch 5/6\n",
            "40/40 [==============================] - 331s 8s/step - loss: 0.0410 - accuracy: 0.9882 - val_loss: 0.0082 - val_accuracy: 1.0000\n",
            "Epoch 6/6\n",
            "40/40 [==============================] - 332s 8s/step - loss: 0.0652 - accuracy: 0.9785 - val_loss: 1.8982e-04 - val_accuracy: 1.0000\n"
          ],
          "name": "stdout"
        },
        {
          "output_type": "execute_result",
          "data": {
            "text/plain": [
              "<tensorflow.python.keras.callbacks.History at 0x7fe742f2abd0>"
            ]
          },
          "metadata": {
            "tags": []
          },
          "execution_count": 68
        }
      ]
    },
    {
      "cell_type": "code",
      "metadata": {
        "id": "gvOnRUbKfpzb"
      },
      "source": [
        "save_model(filepath=\"/content/drive/MyDrive/Yuz_Tanima/model1.h5\",model=model)"
      ],
      "execution_count": null,
      "outputs": []
    },
    {
      "cell_type": "code",
      "metadata": {
        "id": "1iTaYabdPdM_"
      },
      "source": [
        ""
      ],
      "execution_count": null,
      "outputs": []
    }
  ]
}